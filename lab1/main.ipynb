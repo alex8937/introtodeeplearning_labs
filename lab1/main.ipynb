{
  "nbformat": 4,
  "nbformat_minor": 0,
  "metadata": {
    "colab": {
      "name": "main.ipynb",
      "version": "0.3.2",
      "provenance": []
    },
    "language_info": {
      "codemirror_mode": {
        "name": "ipython",
        "version": 3
      },
      "file_extension": ".py",
      "mimetype": "text/x-python",
      "name": "python",
      "nbconvert_exporter": "python",
      "pygments_lexer": "ipython3",
      "version": "3.7.3"
    },
    "kernelspec": {
      "name": "python3",
      "display_name": "Python 3"
    },
    "accelerator": "GPU"
  },
  "cells": [
    {
      "cell_type": "code",
      "metadata": {
        "id": "deblN9SBddyy",
        "colab_type": "code",
        "outputId": "4f05f3eb-2ce0-4e8d-e40b-86df771b6f81",
        "colab": {
          "base_uri": "https://localhost:8080/",
          "height": 272
        }
      },
      "source": [
        "! git clone https://github.com/alex8937/introtodeeplearning_labs.git\n",
        "% cd introtodeeplearning_labs\n",
        "! git pull\n",
        "% cd .."
      ],
      "execution_count": 10,
      "outputs": [
        {
          "output_type": "stream",
          "text": [
            "fatal: destination path 'introtodeeplearning_labs' already exists and is not an empty directory.\n",
            "/content/introtodeeplearning_labs\n",
            "remote: Enumerating objects: 9, done.\u001b[K\n",
            "remote: Counting objects: 100% (9/9), done.\u001b[K\n",
            "remote: Compressing objects: 100% (2/2), done.\u001b[K\n",
            "remote: Total 6 (delta 3), reused 6 (delta 3), pack-reused 0\u001b[K\n",
            "Unpacking objects: 100% (6/6), done.\n",
            "From https://github.com/alex8937/introtodeeplearning_labs\n",
            "   94a9b13..2fcf414  master     -> origin/master\n",
            "Updating 94a9b13..2fcf414\n",
            "Fast-forward\n",
            " lab1/data/poems/tang.txt | 54589 \u001b[32m+++++++++++++++++++++++++++++++++++++++++++++\u001b[m\n",
            " 1 file changed, 54589 insertions(+)\n",
            " create mode 100644 lab1/data/poems/tang.txt\n",
            "/content\n"
          ],
          "name": "stdout"
        }
      ]
    },
    {
      "cell_type": "code",
      "metadata": {
        "id": "EIM_huOHdEVQ",
        "colab_type": "code",
        "outputId": "27fdd273-f596-4b89-a8b7-dd83be1aa42c",
        "colab": {
          "base_uri": "https://localhost:8080/",
          "height": 34
        }
      },
      "source": [
        "import tensorflow as tf\n",
        "import numpy as np\n",
        "import os\n",
        "tf.enable_eager_execution()\n",
        "text = ''\n",
        "for file in os.listdir('introtodeeplearning_labs/lab1/data/'):\n",
        "  if file.endswith('.txt'):\n",
        "    text += open(os.path.join('introtodeeplearning_labs/lab1/data', file), encoding=\"utf8\").read()\n",
        "print('Entire corpus length:', len(text))"
      ],
      "execution_count": 12,
      "outputs": [
        {
          "output_type": "stream",
          "text": [
            "Entire corpus length: 6386814\n"
          ],
          "name": "stdout"
        }
      ]
    },
    {
      "cell_type": "code",
      "metadata": {
        "id": "lmiTpDVzc_6e",
        "colab_type": "code",
        "outputId": "1a8b69d7-051c-4dfe-8ba3-6ce66785d5b4",
        "colab": {
          "base_uri": "https://localhost:8080/",
          "height": 34
        }
      },
      "source": [
        "\n",
        "vocab = sorted(set(text))\n",
        "vocab_size = len(vocab)\n",
        "print ('{} unique characters'.format(vocab_size))\n",
        "\n",
        "char2idx = {c : idx for idx, c in enumerate(vocab)}\n",
        "idx2char = np.array(vocab)\n",
        "\n",
        "text_int = np.array([char2idx[c] for c in text])\n",
        "\n",
        "char_dataset = tf.data.Dataset.from_tensor_slices(text_int)\n",
        "\n",
        "seq_length = 100\n",
        "n_samples = len(text) // seq_length\n",
        "sequences = char_dataset.batch(seq_length + 1, drop_remainder=True)\n",
        "dataset = sequences.map(lambda seq : (seq[:-1], seq[1:]))\n",
        "\n",
        "batch_size = 64\n",
        "n_mini_batches = n_samples // batch_size\n",
        "\n",
        "#what if I don't do shuffle\n",
        "buffer_size = 10000\n",
        "dataset = dataset.shuffle(buffer_size).batch(batch_size, drop_remainder=True)\n",
        "\n",
        "rnn = tf.keras.layers.CuDNNLSTM\n"
      ],
      "execution_count": 4,
      "outputs": [
        {
          "output_type": "stream",
          "text": [
            "5169 unique characters\n"
          ],
          "name": "stdout"
        }
      ]
    },
    {
      "cell_type": "code",
      "metadata": {
        "id": "AqMLWaICeAMY",
        "colab_type": "code",
        "colab": {
          "base_uri": "https://localhost:8080/",
          "height": 88
        },
        "outputId": "55c3695a-f08c-46b5-9f69-87536d3e72af"
      },
      "source": [
        "\n",
        "def build_model(vocab_size, embedding_size, rnn_units, batch_size):\n",
        "    model = tf.keras.Sequential()\n",
        "    model.add(tf.keras.layers.Embedding(vocab_size, embedding_size,\n",
        "                                        batch_input_shape = [batch_size, None]))\n",
        "    model.add(rnn(rnn_units, \n",
        "                  return_sequences=True, \n",
        "                  recurrent_initializer='glorot_uniform',\n",
        "                  stateful=True))\n",
        "    model.add(tf.keras.layers.Dense(vocab_size))\n",
        "    return model\n",
        "\n",
        "embedding_size = 256\n",
        "rnn_units = 1024\n",
        "\n",
        "model = build_model(vocab_size = vocab_size,\n",
        "                    embedding_size=embedding_size,\n",
        "                    rnn_units=rnn_units,\n",
        "                    batch_size=batch_size)\n",
        "\n",
        "#what if using softmax\n",
        "def loss_fun(labels, logits):\n",
        "    return tf.keras.backend.sparse_categorical_crossentropy(labels, logits, from_logits=True)\n",
        "\n",
        "model.compile(optimizer = tf.train.AdamOptimizer(),\n",
        "              loss = loss_fun)\n",
        "\n",
        "\n",
        "checkpoint_dir = './training_checkpoints'\n",
        "checkpoint_prefix = os.path.join(checkpoint_dir, \"ckpt_{epoch}\")\n",
        "checkpoint_callback=tf.keras.callbacks.ModelCheckpoint(filepath=checkpoint_prefix,\n",
        "                                                       save_weights_only=True)\n",
        "\n"
      ],
      "execution_count": 5,
      "outputs": [
        {
          "output_type": "stream",
          "text": [
            "WARNING:tensorflow:From /usr/local/lib/python3.6/dist-packages/tensorflow/python/ops/embedding_ops.py:132: colocate_with (from tensorflow.python.framework.ops) is deprecated and will be removed in a future version.\n",
            "Instructions for updating:\n",
            "Colocations handled automatically by placer.\n"
          ],
          "name": "stdout"
        }
      ]
    },
    {
      "cell_type": "code",
      "metadata": {
        "id": "ng1pcH8lKkU8",
        "colab_type": "code",
        "outputId": "74c83504-0f5f-4e63-f03e-4330124df7dd",
        "colab": {
          "base_uri": "https://localhost:8080/",
          "height": 122
        }
      },
      "source": [
        "from google.colab import drive\n",
        "drive.mount('/content/gdrive')\n",
        "drive_weight_path = \"/content/gdrive/My Drive/Colab Notebooks/model_weights.h5\"\n",
        "if os.path.exists(drive_weight_path):\n",
        "  model.load_weights(drive_weight_path)"
      ],
      "execution_count": 7,
      "outputs": [
        {
          "output_type": "stream",
          "text": [
            "Go to this URL in a browser: https://accounts.google.com/o/oauth2/auth?client_id=947318989803-6bn6qk8qdgf4n4g3pfee6491hc0brc4i.apps.googleusercontent.com&redirect_uri=urn%3Aietf%3Awg%3Aoauth%3A2.0%3Aoob&scope=email%20https%3A%2F%2Fwww.googleapis.com%2Fauth%2Fdocs.test%20https%3A%2F%2Fwww.googleapis.com%2Fauth%2Fdrive%20https%3A%2F%2Fwww.googleapis.com%2Fauth%2Fdrive.photos.readonly%20https%3A%2F%2Fwww.googleapis.com%2Fauth%2Fpeopleapi.readonly&response_type=code\n",
            "\n",
            "Enter your authorization code:\n",
            "··········\n",
            "Mounted at /content/gdrive\n"
          ],
          "name": "stdout"
        }
      ]
    },
    {
      "cell_type": "code",
      "metadata": {
        "id": "9h714rO1c_6h",
        "colab_type": "code",
        "outputId": "295856db-16d0-43ea-a01b-5c3e9ad0ebe6",
        "colab": {
          "base_uri": "https://localhost:8080/",
          "height": 105
        }
      },
      "source": [
        "history = model.fit(dataset.repeat(), \n",
        "                    epochs=1, \n",
        "                    steps_per_epoch=n_mini_batches, \n",
        "                    callbacks=[checkpoint_callback])\n",
        "model.save_weights(drive_weight_path)"
      ],
      "execution_count": 8,
      "outputs": [
        {
          "output_type": "stream",
          "text": [
            "1027/1028 [============================>.] - ETA: 0s - loss: 2.3749WARNING:tensorflow:From /usr/local/lib/python3.6/dist-packages/tensorflow/python/keras/engine/network.py:1436: update_checkpoint_state (from tensorflow.python.training.checkpoint_management) is deprecated and will be removed in a future version.\n",
            "Instructions for updating:\n",
            "Use tf.train.CheckpointManager to manage checkpoints rather than manually editing the Checkpoint proto.\n",
            "1028/1028 [==============================] - 277s 270ms/step - loss: 2.3750\n"
          ],
          "name": "stdout"
        }
      ]
    },
    {
      "cell_type": "code",
      "metadata": {
        "id": "Mucp67Rxc_6i",
        "colab_type": "code",
        "outputId": "13262b4f-0a54-4e41-8f77-b462258ceed9",
        "colab": {
          "base_uri": "https://localhost:8080/",
          "height": 34
        }
      },
      "source": [
        "gen_model = build_model(vocab_size, embedding_size, rnn_units, batch_size=1)\n",
        "\n",
        "gen_model.load_weights(tf.train.latest_checkpoint(checkpoint_dir))\n",
        "\n",
        "gen_model.build(tf.TensorShape([1, None]))\n",
        "\n",
        "\n",
        "\n",
        "def generate_text(model, start_string, temperature = 1.0):\n",
        "  # Evaluation step (generating text using the learned model)\n",
        "\n",
        "  # Number of characters to generate\n",
        "    num_generate = 100\n",
        "\n",
        "  # Converting our start string to numbers (vectorizing) \n",
        "    input_eval = [char2idx[s] for s in start_string]\n",
        "    input_eval = tf.expand_dims(input_eval, 0)\n",
        "\n",
        "    # Empty string to store our results\n",
        "    text_generated = []\n",
        "\n",
        "    # Low temperatures results in more predictable text.\n",
        "    # Higher temperatures results in more surprising text.\n",
        "    # Experiment to find the best setting.\n",
        "    \n",
        "\n",
        "    # Here batch size == 1\n",
        "    model.reset_states()\n",
        "    for i in range(num_generate):\n",
        "        predictions = model(input_eval)\n",
        "        # remove the batch dimension\n",
        "        predictions = tf.squeeze(predictions, 0)\n",
        "\n",
        "        # using a multinomial distribution to predict the word returned by the model\n",
        "        predictions = predictions / temperature\n",
        "        predicted_id = tf.random.categorical(predictions, num_samples=1)[-1,0].numpy()\n",
        "        \n",
        "        # We pass the predicted word as the next input to the model\n",
        "        # along with the previous hidden state\n",
        "        input_eval = tf.expand_dims([predicted_id], 0)\n",
        "        \n",
        "        text_generated.append(idx2char[predicted_id])\n",
        "\n",
        "    return (start_string + ''.join(text_generated))\n",
        "\n",
        "\n",
        "print(generate_text(gen_model, start_string=text[10165: 10167]), 1)\n"
      ],
      "execution_count": 9,
      "outputs": [
        {
          "output_type": "stream",
          "text": [
            "数十数万不是。此番此举，难以领教，你若不作也，我便无法得见。”掌柜的笑道：“只可惜足迹日月教大海，竟无空等，最好我们在城中闲逛，丐帮历那均武功传了上乘武当，在赵宋军中盘问。曾听人群将卷轴制得特备，是之明比 1\n"
          ],
          "name": "stdout"
        }
      ]
    },
    {
      "cell_type": "code",
      "metadata": {
        "id": "z0-Fee1Zglmz",
        "colab_type": "code",
        "outputId": "0a44bd11-78c4-44b4-9315-10163ec4d7a7",
        "colab": {
          "base_uri": "https://localhost:8080/",
          "height": 54
        }
      },
      "source": [
        "text[10165:11000]"
      ],
      "execution_count": 0,
      "outputs": [
        {
          "output_type": "execute_result",
          "data": {
            "text/plain": [
              "'段誉哈哈大笑，拍手说道：“今日当真是大开眼界，叹为观止了。”\\n龚光杰手忙脚乱的除下长裤，露出两条生满了黑毛的大腿。那少女叫道：“你这恶人爱欺侮人，叫你全身脱得精光，瞧你羞也不羞！”又是嘘嘘两声尖呼，那貂儿也真听话，爬上龚光杰左腿，立时钻入了他衬裤之中。练武厅上有不少女子，龚光杰这条衬裤是无论如何不肯脱的，双足乱跳，双手在自己小腹、屁股上拍了一阵，大叫一声，跌跌撞撞的往外直奔。\\n他刚奔到厅门，忽然门外抢进一个人来，砰的一声，两人撞了个满怀。这一出一入，势道都是奇急，龚光杰踉跄后退，门外进来那人却仰天一交，摔倒在地。\\n左子穆失声叫道：“容师弟！”\\n龚光杰也顾不得裤中那只貂儿兀自从左腿爬到右腿、又从右腿爬上屁股，忙抢上将那人扶起，貂儿突然爬到了他前阴的要紧所在。他“啊”的一声大叫，双手忙去抓貂，那人又即摔倒。\\n梁上少女格格娇笑，说道：“整得你也够了！”“嘶”的一下长声呼叫。貂儿从龚光杰裤中钻了出来，沿墙直上，奔到梁上，白影一闪，回到了那少女怀中。那少女赞道：“乖貂儿！”右手两根手指抓着一条小蛇的尾巴，倒提起来，在貂儿面前晃动。那貂儿前脚抓住，张口便吃，原来那少女手中这许多小蛇都是喂貂的食料。\\n段誉前所未见，看得津津有味，见貂儿吃完一条小蛇，钻入了那少女腰间的皮囊。\\n龚光杰再次扶起那人，惊叫：“容师叔，你……你怎么啦！”左子穆抢上前去，只见师弟容子矩双目圆睁，满脸愤恨之色，口鼻中却已没了气息。左子穆大惊，忙施推拿，已然无法救活。左子穆知道容子矩武功虽较已为逊，比龚光杰却高得多了，这么一撞，他居然没能避开，而一撞之下登时毙命，那定是进来之前已然身受重伤，忙解他上衣查察伤势。衣衫解开，只见他胸口赫然写着八个黑字：“神农帮诛灭无量剑”。众人不约而同的大声惊呼。\\n这八个黑字深入肌理，既非墨笔书写，也不是用尖利之物刻划而致，竟是以剧毒的药物写就，腐蚀之下，深陷肌肤。\\n左子穆略一凝视，不禁大怒，手中长剑一振，嗡嗡作响，喝道：“且瞧是神农帮诛灭无量剑，还是无量剑诛'"
            ]
          },
          "metadata": {
            "tags": []
          },
          "execution_count": 10
        }
      ]
    },
    {
      "cell_type": "code",
      "metadata": {
        "id": "FOYMq46InyVT",
        "colab_type": "code",
        "colab": {}
      },
      "source": [
        ""
      ],
      "execution_count": 0,
      "outputs": []
    }
  ]
}